{
 "cells": [
  {
   "cell_type": "markdown",
   "metadata": {},
   "source": [
    "## Data Types"
   ]
  },
  {
   "cell_type": "markdown",
   "metadata": {},
   "source": [
    "**Numeric data**\n",
    "- Measurement or count\n",
    "- Discrete and continuous\n",
    "    - Discrete: whole number (0, 1, 2, 3)\n",
    "    - Continuous\n",
    "\n",
    "**Categorical data**\n",
    "- Represent characteristics\n",
    "- Can take on numerical values\n",
    "    - Don't have mathematical meaning\n",
    "    - Cannot take average etc.\n",
    "- Ordinal data\n",
    "    - Categories with some order or ranking\n",
    "- Treatment of categorical data\n",
    "    - Many algorithms assume input data is numerical\n",
    "    - Must convert categorical data into numerical data\n",
    "        - Also called one-hot encoding\n",
    "    \n",
    "**Time-series data**\n",
    "- Data collected via repeated measurements over time\n",
    "    - Example: average HR over a few years"
   ]
  }
 ],
 "metadata": {
  "kernelspec": {
   "display_name": "Python 2",
   "language": "python",
   "name": "python2"
  },
  "language_info": {
   "codemirror_mode": {
    "name": "ipython",
    "version": 2
   },
   "file_extension": ".py",
   "mimetype": "text/x-python",
   "name": "python",
   "nbconvert_exporter": "python",
   "pygments_lexer": "ipython2",
   "version": "2.7.11"
  }
 },
 "nbformat": 4,
 "nbformat_minor": 0
}

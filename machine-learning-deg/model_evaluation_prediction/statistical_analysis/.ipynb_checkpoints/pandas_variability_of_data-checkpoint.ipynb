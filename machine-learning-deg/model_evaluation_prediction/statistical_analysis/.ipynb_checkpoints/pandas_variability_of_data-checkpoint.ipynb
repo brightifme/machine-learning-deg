{
 "cells": [
  {
   "cell_type": "markdown",
   "metadata": {},
   "source": [
    "## Variability of Data"
   ]
  },
  {
   "cell_type": "markdown",
   "metadata": {},
   "source": [
    "**Theory**\n",
    "- **Visualizations of data**\n",
    "    - Histogram\n",
    "    - Boxplots\n",
    "- **Range = max - min**\n",
    "    - Changes sometimes when we add new data to the dataset\n",
    "        - Hence, this changes with outliers\n",
    "        - Statisticians typically cut the top and bottom 25%\n",
    "            - This is called Interquartile (IQR) range = Q3 - Q1\n",
    "- **Quartiles**\n",
    "    - Split data into half\n",
    "        - Median of everything = Q2\n",
    "        - First half's median = Q1\n",
    "        - Second half's median = Q3\n",
    "        - IQR = Q3 - Q1\n",
    "            - About 50% of data falls within the IQR\n",
    "            - IQR is not affected by every value in the dataset\n",
    "            - IQR is not affected by outliers\n",
    "- **Outliers**\n",
    "    - We can statistically calculate an outlier\n",
    "        - Outlier < Q1 - 1.5*IQR\n",
    "        - Outlier > Q3 + 1.5*IQR\n",
    "- **Deviation from mean** = x_i - x_mean\n",
    "- **Mean absolute deviation** = sum(x_i - x_mean) / n\n",
    "    - n is the number of examples\n",
    "- **Squared deviation** = (x_i - x_mean)^2\n",
    "- **Mean squared deviation** = variance = sum((x_i - x_mean)^2) / n\n",
    "    - **Sum of squares (SS)** = sum((x_i - x_mean)^2)\n",
    "- **Standard deviation (SD)** = variance^0.5\n",
    "    - Approximately 68% of data falls within 1 SD from the mean\n",
    "    - Approximately 95% of data falls within 2 SD from the mean\n",
    "    - Approximately 99.7% of data falls within 3 SD from the mean\n",
    "- **Bessel's Correction**\n",
    "    - In general, samples underestimate the variability of a population\n",
    "        - This is because most of the values are centered in the middle\n",
    "        - We can correct for this using Bessel's Correction\n",
    "            - We divide by n - 1 (degree of freedom = 1)\n",
    "            - This will make the standard deviation bigger\n",
    "    - In summary\n",
    "       - If we are trying to estimate the standard deviation of the population, we divide by n - 1\n",
    "       - If we are actually measuring the standard deviation of the population, we divide by n\n",
    "        "
   ]
  },
  {
   "cell_type": "markdown",
   "metadata": {},
   "source": []
  },
  {
   "cell_type": "markdown",
   "metadata": {},
   "source": [
    "**Calculating variability of data using pandas**"
   ]
  },
  {
   "cell_type": "code",
   "execution_count": 1,
   "metadata": {
    "collapsed": true
   },
   "outputs": [],
   "source": [
    "import pandas as pd"
   ]
  },
  {
   "cell_type": "code",
   "execution_count": 31,
   "metadata": {
    "collapsed": true
   },
   "outputs": [],
   "source": [
    "lst = [33219, 36254, 38801, 46335, 46840, 47596, 55130, 56863, 78070, 88830]\n",
    "sample = pd.Series(lst)"
   ]
  },
  {
   "cell_type": "code",
   "execution_count": 32,
   "metadata": {
    "collapsed": false
   },
   "outputs": [
    {
     "data": {
      "text/plain": [
       "pandas.core.series.Series"
      ]
     },
     "execution_count": 32,
     "metadata": {},
     "output_type": "execute_result"
    }
   ],
   "source": [
    "type(sample)"
   ]
  },
  {
   "cell_type": "code",
   "execution_count": 33,
   "metadata": {
    "collapsed": false
   },
   "outputs": [
    {
     "data": {
      "text/plain": [
       "0    33219\n",
       "1    36254\n",
       "2    38801\n",
       "3    46335\n",
       "4    46840\n",
       "5    47596\n",
       "6    55130\n",
       "7    56863\n",
       "8    78070\n",
       "9    88830\n",
       "dtype: int64"
      ]
     },
     "execution_count": 33,
     "metadata": {},
     "output_type": "execute_result"
    }
   ],
   "source": [
    "sample"
   ]
  },
  {
   "cell_type": "code",
   "execution_count": 34,
   "metadata": {
    "collapsed": false
   },
   "outputs": [
    {
     "data": {
      "text/plain": [
       "52793.800000000003"
      ]
     },
     "execution_count": 34,
     "metadata": {},
     "output_type": "execute_result"
    }
   ],
   "source": [
    "sample.mean()"
   ]
  },
  {
   "cell_type": "code",
   "execution_count": 35,
   "metadata": {
    "collapsed": false
   },
   "outputs": [
    {
     "data": {
      "text/plain": [
       "47218.0"
      ]
     },
     "execution_count": 35,
     "metadata": {},
     "output_type": "execute_result"
    }
   ],
   "source": [
    "sample.median()"
   ]
  },
  {
   "cell_type": "code",
   "execution_count": 47,
   "metadata": {
    "collapsed": false
   },
   "outputs": [
    {
     "data": {
      "text/plain": [
       "18000.701849279834"
      ]
     },
     "execution_count": 47,
     "metadata": {},
     "output_type": "execute_result"
    }
   ],
   "source": [
    "# standard deviation \n",
    "# default ddof = 1\n",
    "# divded by n - 1\n",
    "sample.std()"
   ]
  },
  {
   "cell_type": "code",
   "execution_count": 48,
   "metadata": {
    "collapsed": false
   },
   "outputs": [
    {
     "data": {
      "text/plain": [
       "17076.965197598776"
      ]
     },
     "execution_count": 48,
     "metadata": {},
     "output_type": "execute_result"
    }
   ],
   "source": [
    "# standard deviation \n",
    "# ddof = 0\n",
    "# divded by n \n",
    "sample.std(ddof=0)"
   ]
  },
  {
   "cell_type": "code",
   "execution_count": 43,
   "metadata": {
    "collapsed": false
   },
   "outputs": [
    {
     "data": {
      "text/plain": [
       "291622740.35999984"
      ]
     },
     "execution_count": 43,
     "metadata": {},
     "output_type": "execute_result"
    }
   ],
   "source": [
    "# variance with ddof = 0\n",
    "# sum((x_i - x_mean)^2) / n\n",
    "sample.var(ddof=0)"
   ]
  },
  {
   "cell_type": "code",
   "execution_count": 44,
   "metadata": {
    "collapsed": false
   },
   "outputs": [
    {
     "data": {
      "text/plain": [
       "324025267.06666648"
      ]
     },
     "execution_count": 44,
     "metadata": {},
     "output_type": "execute_result"
    }
   ],
   "source": [
    "# variance with ddof = 1\n",
    "# sum((x_i - x_mean)^2) / (n-1)\n",
    "sample.var(ddof=1)"
   ]
  },
  {
   "cell_type": "code",
   "execution_count": 45,
   "metadata": {
    "collapsed": false
   },
   "outputs": [
    {
     "data": {
      "text/plain": [
       "13543.560000000001"
      ]
     },
     "execution_count": 45,
     "metadata": {},
     "output_type": "execute_result"
    }
   ],
   "source": [
    "# mean (average) absolute deviation\n",
    "sample.mad()"
   ]
  },
  {
   "cell_type": "markdown",
   "metadata": {},
   "source": [
    "**Summary**"
   ]
  },
  {
   "cell_type": "code",
   "execution_count": 54,
   "metadata": {
    "collapsed": false
   },
   "outputs": [],
   "source": [
    "lst2 = [38946, 43420, 49191, 50430, 50557, 52580, 53595, 54135, 60181, 62076]"
   ]
  },
  {
   "cell_type": "code",
   "execution_count": 55,
   "metadata": {
    "collapsed": false
   },
   "outputs": [],
   "source": [
    "sample2 = pd.Series(lst2)"
   ]
  },
  {
   "cell_type": "code",
   "execution_count": 61,
   "metadata": {
    "collapsed": false
   },
   "outputs": [
    {
     "name": "stdout",
     "output_type": "stream",
     "text": [
      "6557.16326547\n",
      "51511.1\n",
      "5002.3\n"
     ]
    }
   ],
   "source": [
    "print sample2.std(ddof=0)\n",
    "print sample2.mean()\n",
    "print sample2.mad()"
   ]
  },
  {
   "cell_type": "markdown",
   "metadata": {},
   "source": [
    "**Reading from a csv**"
   ]
  },
  {
   "cell_type": "code",
   "execution_count": 63,
   "metadata": {
    "collapsed": true
   },
   "outputs": [],
   "source": [
    "path = './salary.csv'\n",
    "salary = pd.read_csv(path)"
   ]
  },
  {
   "cell_type": "code",
   "execution_count": 65,
   "metadata": {
    "collapsed": false
   },
   "outputs": [
    {
     "data": {
      "text/html": [
       "<div style=\"max-height:1000px;max-width:1500px;overflow:auto;\">\n",
       "<table border=\"1\" class=\"dataframe\">\n",
       "  <thead>\n",
       "    <tr style=\"text-align: right;\">\n",
       "      <th></th>\n",
       "      <th>salary</th>\n",
       "    </tr>\n",
       "  </thead>\n",
       "  <tbody>\n",
       "    <tr>\n",
       "      <th>0</th>\n",
       "      <td>59147.29</td>\n",
       "    </tr>\n",
       "    <tr>\n",
       "      <th>1</th>\n",
       "      <td>61379.14</td>\n",
       "    </tr>\n",
       "    <tr>\n",
       "      <th>2</th>\n",
       "      <td>55683.19</td>\n",
       "    </tr>\n",
       "    <tr>\n",
       "      <th>3</th>\n",
       "      <td>56272.76</td>\n",
       "    </tr>\n",
       "    <tr>\n",
       "      <th>4</th>\n",
       "      <td>52055.88</td>\n",
       "    </tr>\n",
       "  </tbody>\n",
       "</table>\n",
       "</div>"
      ],
      "text/plain": [
       "     salary\n",
       "0  59147.29\n",
       "1  61379.14\n",
       "2  55683.19\n",
       "3  56272.76\n",
       "4  52055.88"
      ]
     },
     "execution_count": 65,
     "metadata": {},
     "output_type": "execute_result"
    }
   ],
   "source": [
    "# data read into pandas series\n",
    "salary.head()"
   ]
  },
  {
   "cell_type": "code",
   "execution_count": 67,
   "metadata": {
    "collapsed": false
   },
   "outputs": [
    {
     "data": {
      "text/plain": [
       "salary    10656.952669\n",
       "dtype: float64"
      ]
     },
     "execution_count": 67,
     "metadata": {},
     "output_type": "execute_result"
    }
   ],
   "source": [
    "# standard deviation\n",
    "# degree of freedom = 0\n",
    "# divided by n instead of divided by n - 1\n",
    "salary.std(ddof=0)"
   ]
  }
 ],
 "metadata": {
  "anaconda-cloud": {},
  "kernelspec": {
   "display_name": "Python 2",
   "language": "python",
   "name": "python2"
  },
  "language_info": {
   "codemirror_mode": {
    "name": "ipython",
    "version": 2
   },
   "file_extension": ".py",
   "mimetype": "text/x-python",
   "name": "python",
   "nbconvert_exporter": "python",
   "pygments_lexer": "ipython2",
   "version": "2.7.11"
  }
 },
 "nbformat": 4,
 "nbformat_minor": 0
}

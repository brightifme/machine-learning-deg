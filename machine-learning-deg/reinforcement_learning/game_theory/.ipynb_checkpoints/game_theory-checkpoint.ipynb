{
 "cells": [
  {
   "cell_type": "markdown",
   "metadata": {},
   "source": [
    "## Game Theory"
   ]
  },
  {
   "cell_type": "markdown",
   "metadata": {},
   "source": [
    "- Mathematics of conflict.\n",
    "- Multiple agents.\n",
    "- Used in economics.\n",
    "- Increasingly a part of AI/ML."
   ]
  },
  {
   "cell_type": "markdown",
   "metadata": {
    "collapsed": true
   },
   "source": [
    "**1. Two-player zero-sum finite deterministic game of perfect information**\n",
    "- ![](gt.png)\n",
    "    - A's points: leaves.\n",
    "    - B's points: negative of A.\n",
    "        - Pure strategy: 2\n",
    "            - A: maximize\n",
    "            - B: minimize"
   ]
  },
  {
   "cell_type": "markdown",
   "metadata": {},
   "source": [
    "**Minimax $\\equiv$ Maximax Strategy**\n",
    "- Both A and B would consider the worst case counter strategy.\n",
    "    - A: maximize points.\n",
    "    - B: minimize points.\n",
    "- There would always have an optimal pure strategy for each player.\n",
    "    - You are assuming they are doing the same thing.\n",
    "    - You are also assuming they are assuming everyone else are doing the same thing. "
   ]
  },
  {
   "cell_type": "markdown",
   "metadata": {},
   "source": [
    "**2. Two-player zero-sum finite non-deterministic game of perfect information**\n",
    "- ![](gt2.png)\n",
    "    - Pure Strategy: -2\n",
    "        - A would maximize\n",
    "        - B would minimize"
   ]
  },
  {
   "cell_type": "markdown",
   "metadata": {},
   "source": [
    "**3. Two-player zero-sum finite non-deterministic game of hidden information**\n",
    "- Mini-poker\n",
    "    - A is dealt a card, red or black with a probability of 50% each\n",
    "        - Red is bad for A\n",
    "        - Black is good for A\n",
    "    - A may resign if given a red card: - 20 for A \n",
    "        - Else A can hold:\n",
    "            - B resigns: + 10\n",
    "            - B sees:\n",
    "                - If red: - 40 \n",
    "                - If black: + 30 \n",
    "- ![](gt3.png)"
   ]
  },
  {
   "cell_type": "markdown",
   "metadata": {},
   "source": [
    "- Minimax is not equal to Maximax in this scenario.\n",
    "    - A's strategy depends on what B would do.\n",
    "    - B's strategy depends on what A would do.\n",
    "    - We can use a **mixed strategy** here.\n",
    "        - There's a distribution over strategies."
   ]
  },
  {
   "cell_type": "markdown",
   "metadata": {},
   "source": [
    "- Assume p is the probability of being a \"holder\" and A has a mixed strategy.\n",
    "    - B: resigner\n",
    "        - A's expected profit:\n",
    "            - 10p + (1-p)(-5) = 15p - 5\n",
    "    - B: seer\n",
    "        - A's expected profit:\n",
    "            - -5p + (1-p)(5) = -10p + 5\n",
    "    - **We equate the equations to find out that we have p=0.4, where the expected value of game is +1.**\n",
    "    - ![](gt4.png)"
   ]
  },
  {
   "cell_type": "markdown",
   "metadata": {},
   "source": [
    "**4. Two-player non-zero-sum finite non-deterministic game of hidden information**"
   ]
  },
  {
   "cell_type": "markdown",
   "metadata": {},
   "source": [
    "- Typical scenario where the district attorney offers a deal to both criminals to turn on one another.\n",
    "- ![](gt5.png)\n",
    "- No matter the response of the other prisoner, both would choose to defect. There is a dominance of a particularly strategy here.\n",
    "- This is also known as the Prisoner's Dilemma."
   ]
  },
  {
   "cell_type": "markdown",
   "metadata": {},
   "source": [
    "**Nash Equilibrium**\n",
    "- n players with strategies $S_1, S_2 ... S_n$\n",
    "- $S^*_1 \\in S_1 ... S^*_n \\in S_n$ are in **Nash Equilibrium** if\n",
    "    - $\\forall_i \\ \\ S^*_i = argmax_{s_i} utility_i(S^*_1 ... S^*_n)$ there is no reason for anyone to change."
   ]
  },
  {
   "cell_type": "markdown",
   "metadata": {},
   "source": [
    "**Nash Equilibrium Notes**\n",
    "- In the n-player pure strategy game, if elimination of strictly dominated strategies elimates all but one combination, that combination is the unique NE. \n",
    "- Any NE will survive elimination of strictly dominated strategies.\n",
    "- If n is finite and for all strategies which are finite, then there exist at least one NE.\n",
    "- If you have n-repeated game, you have n-repeated NE."
   ]
  },
  {
   "cell_type": "markdown",
   "metadata": {},
   "source": [
    "**Further Readings**\n",
    "- [Andrew Moore's slides on Zero-Sum Games](http://www.autonlab.org/tutorials/gametheory.html)\n",
    "- [Andrew Moore's slides on Non-Zero-Sum Games](http://www.autonlab.org/tutorials/nonzerosum.html)\n"
   ]
  }
 ],
 "metadata": {
  "anaconda-cloud": {},
  "kernelspec": {
   "display_name": "Python [conda env:py3k]",
   "language": "python",
   "name": "conda-env-py3k-py"
  },
  "language_info": {
   "codemirror_mode": {
    "name": "ipython",
    "version": 3
   },
   "file_extension": ".py",
   "mimetype": "text/x-python",
   "name": "python",
   "nbconvert_exporter": "python",
   "pygments_lexer": "ipython3",
   "version": "3.5.2"
  }
 },
 "nbformat": 4,
 "nbformat_minor": 1
}

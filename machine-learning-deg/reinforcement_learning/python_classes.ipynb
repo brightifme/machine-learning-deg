{
 "cells": [
  {
   "cell_type": "markdown",
   "metadata": {},
   "source": [
    "## Python Classes"
   ]
  },
  {
   "cell_type": "markdown",
   "metadata": {},
   "source": [
    "A class has many functions."
   ]
  },
  {
   "cell_type": "markdown",
   "metadata": {},
   "source": [
    "**Creating a class: init**\n",
    "- The _init_ method is also called a constructor.\n",
    "- It takes in parameters and assigns fields to the new instance"
   ]
  },
  {
   "cell_type": "code",
   "execution_count": 22,
   "metadata": {
    "collapsed": true
   },
   "outputs": [],
   "source": [
    "# Import display\n",
    "from IPython.display import display"
   ]
  },
  {
   "cell_type": "code",
   "execution_count": 30,
   "metadata": {
    "collapsed": false
   },
   "outputs": [
    {
     "name": "stdout",
     "output_type": "stream",
     "text": [
      "Method sum_all in class Add\n"
     ]
    },
    {
     "data": {
      "text/plain": [
       "20"
      ]
     },
     "metadata": {},
     "output_type": "display_data"
    }
   ],
   "source": [
    "# Example of instantiating a class\n",
    "\n",
    "# Create a class\n",
    "class Add:\n",
    "    def __init__(self, num_1, num_2):\n",
    "        self.num_1 = num_1\n",
    "        self.num_2 = num_2\n",
    "        \n",
    "    def sum_all(self):\n",
    "        print(\"Method sum_all in class Add\")\n",
    "        return self.num_1 + self.num_2\n",
    "    \n",
    "\n",
    "# Crease an instance of Add\n",
    "a = Add(10,10)\n",
    "\n",
    "# Now we can access the function within the class\n",
    "# using the dot notation\n",
    "display(x.sum_all())"
   ]
  },
  {
   "cell_type": "markdown",
   "metadata": {},
   "source": [
    "**Inheritance**\n",
    "- We can have a class inheriting from other classes.\n",
    "- We can specify the inheritance in paranthesis."
   ]
  },
  {
   "cell_type": "code",
   "execution_count": 28,
   "metadata": {
    "collapsed": false
   },
   "outputs": [
    {
     "name": "stdout",
     "output_type": "stream",
     "text": [
      "Method sum_all() in class A:\n"
     ]
    },
    {
     "data": {
      "text/plain": [
       "20"
      ]
     },
     "metadata": {},
     "output_type": "display_data"
    },
    {
     "name": "stdout",
     "output_type": "stream",
     "text": [
      "Method mult_all() in class B:\n"
     ]
    },
    {
     "data": {
      "text/plain": [
       "100"
      ]
     },
     "metadata": {},
     "output_type": "display_data"
    }
   ],
   "source": [
    "# Example of inheritance \n",
    "\n",
    "class Add:\n",
    "    def __init__(self, num_1, num_2):\n",
    "        self.num_1 = num_1\n",
    "        self.num_2 = num_2\n",
    "        \n",
    "    def sum_all(self):\n",
    "        print(\"Method sum_all() in class A:\")\n",
    "        return self.num_1 + self.num_2\n",
    "\n",
    "class Multiply(Add):\n",
    "    def mult_all(self):\n",
    "        print(\"Method mult_all() in class B:\")\n",
    "        return self.num_1 * self.num_2\n",
    "    \n",
    "# Instantiate Multiply class\n",
    "m = Multiply(10, 10)\n",
    "\n",
    "# Call method sum_all\n",
    "# This is inherited from class Add\n",
    "display(m.sum_all())\n",
    "\n",
    "# Call method mult_all\n",
    "display(m.mult_all())"
   ]
  },
  {
   "cell_type": "markdown",
   "metadata": {},
   "source": [
    "**Private Members**\n",
    "- These are created with 2 underscores within a class\n",
    "- They can only be accessed outside the class if we add _ClassName"
   ]
  },
  {
   "cell_type": "code",
   "execution_count": 38,
   "metadata": {
    "collapsed": false
   },
   "outputs": [
    {
     "data": {
      "text/plain": [
       "5"
      ]
     },
     "metadata": {},
     "output_type": "display_data"
    },
    {
     "data": {
      "text/plain": [
       "5"
      ]
     },
     "metadata": {},
     "output_type": "display_data"
    }
   ],
   "source": [
    "# Example of Private Members within a Class\n",
    "\n",
    "class A:\n",
    "    def __init__(self, num_1, num_2):\n",
    "        self.__num_1 = num_1\n",
    "        self.__num_2 = num_2\n",
    "        \n",
    "    __num_1 = 10\n",
    "    __num_2 = 10\n",
    "\n",
    "# Instantiate class\n",
    "a = A(5, 5)\n",
    "\n",
    "\n",
    "# Call private member\n",
    "display(a._A__num_1)\n",
    "display(a._A__num_2)"
   ]
  },
  {
   "cell_type": "markdown",
   "metadata": {
    "collapsed": true
   },
   "source": [
    "**Checking for subclasses**\n",
    "- issubclass(class_A, class_B)\n",
    "- You can use this to determine if one class inherits another class."
   ]
  },
  {
   "cell_type": "code",
   "execution_count": 44,
   "metadata": {
    "collapsed": false
   },
   "outputs": [
    {
     "data": {
      "text/plain": [
       "True"
      ]
     },
     "metadata": {},
     "output_type": "display_data"
    },
    {
     "data": {
      "text/plain": [
       "False"
      ]
     },
     "metadata": {},
     "output_type": "display_data"
    },
    {
     "data": {
      "text/plain": [
       "True"
      ]
     },
     "metadata": {},
     "output_type": "display_data"
    }
   ],
   "source": [
    "# Example of sub-class\n",
    "\n",
    "class Add:\n",
    "    def __init__(self, num_1, num_2):\n",
    "        self.num_1 = num_1\n",
    "        self.num_2 = num_2\n",
    "        \n",
    "    def sum_all(self):\n",
    "        print(\"Method sum_all() in class A:\")\n",
    "        return self.num_1 + self.num_2\n",
    "\n",
    "class Multiply(Add):\n",
    "    def mult_all(self):\n",
    "        print(\"Method mult_all() in class B:\")\n",
    "        return self.num_1 * self.num_2\n",
    "\n",
    "# Instance derived class Multiply(Add)\n",
    "m = Multiply(10, 10)\n",
    "\n",
    "# Check if Multiply inherits Add\n",
    "display(issubclass(Multiply, Add))\n",
    "\n",
    "# Check if Add inherits Multiply\n",
    "display(issubclass(Add, Multiply))\n",
    "\n",
    "# Check if Add inherits itself\n",
    "display(issubclass(Add, Add))"
   ]
  },
  {
   "cell_type": "markdown",
   "metadata": {},
   "source": [
    "**Checking if an object is an instance of a class**\n",
    "- isinstance(object, class)"
   ]
  },
  {
   "cell_type": "code",
   "execution_count": 91,
   "metadata": {
    "collapsed": false
   },
   "outputs": [
    {
     "name": "stdout",
     "output_type": "stream",
     "text": [
      "Method sum_all() in class A:\n"
     ]
    },
    {
     "data": {
      "text/plain": [
       "True"
      ]
     },
     "metadata": {},
     "output_type": "display_data"
    }
   ],
   "source": [
    "class Add:\n",
    "    def __init__(self, num_1, num_2):\n",
    "        self.num_1 = num_1\n",
    "        self.num_2 = num_2\n",
    "        \n",
    "    def sum_all(self):\n",
    "        print(\"Method sum_all() in class A:\")\n",
    "        return self.num_1 + self.num_2\n",
    "\n",
    "# Instantiate: create object\n",
    "a = Add(10, 10)\n",
    "\n",
    "# Check if an object is an instance of a class\n",
    "\n",
    "display(isinstance(a, Add))"
   ]
  },
  {
   "cell_type": "markdown",
   "metadata": {},
   "source": [
    "**Representation**\n",
    "- repr(object) accesses the __repr__ method in a class where the object is an instantiation of the class."
   ]
  },
  {
   "cell_type": "code",
   "execution_count": 81,
   "metadata": {
    "collapsed": false
   },
   "outputs": [
    {
     "name": "stdout",
     "output_type": "stream",
     "text": [
      "Method sum_all() in class A:\n",
      "I Love you\n",
      "Method sum_all() in class A:\n",
      "I Love you\n"
     ]
    }
   ],
   "source": [
    "class Add:\n",
    "    def __init__(self, word_1, word_2, word_3):\n",
    "        self.word_1 = word_1\n",
    "        self.word_2 = word_2\n",
    "        self.word_3 = word_3\n",
    "        \n",
    "    def __repr__(self):\n",
    "        print(\"Method sum_all() in class A:\")\n",
    "        return self.word_1 + self.word_2 + self.word_3\n",
    "\n",
    "\n",
    "# Create Add instance\n",
    "a = Add(\"I\", \" Love\", \" you\")\n",
    "print(a)\n",
    "\n",
    "# Access _repr_ from Add class\n",
    "print(repr(a))"
   ]
  },
  {
   "cell_type": "markdown",
   "metadata": {},
   "source": [
    "**Call class directly with Classmethod**\n",
    "- @classmethod\n",
    "- We can call with a static or instance method"
   ]
  },
  {
   "cell_type": "code",
   "execution_count": 93,
   "metadata": {
    "collapsed": false
   },
   "outputs": [
    {
     "name": "stdout",
     "output_type": "stream",
     "text": [
      "Method sum_all() in class A:\n"
     ]
    },
    {
     "data": {
      "text/plain": [
       "20"
      ]
     },
     "metadata": {},
     "output_type": "display_data"
    },
    {
     "name": "stdout",
     "output_type": "stream",
     "text": [
      "Method sum_all() in class A:\n"
     ]
    },
    {
     "data": {
      "text/plain": [
       "20"
      ]
     },
     "metadata": {},
     "output_type": "display_data"
    }
   ],
   "source": [
    "class Add:\n",
    "    @classmethod\n",
    "    def __init__(self, num_1, num_2):\n",
    "        self.num_1 = num_1\n",
    "        self.num_2 = num_2\n",
    "        \n",
    "    def sum_all(self):\n",
    "        print(\"Method sum_all() in class A:\")\n",
    "        return self.num_1 + self.num_2\n",
    "\n",
    "# Static method\n",
    "display(Add(10,10).sum_all())\n",
    "\n",
    "# Instance method\n",
    "a = Add(10, 10)\n",
    "display(a.sum_all())"
   ]
  },
  {
   "cell_type": "markdown",
   "metadata": {},
   "source": [
    "**Property**\n",
    "- property(get_func, set_func)\n",
    "- This allows you to get and set a value."
   ]
  },
  {
   "cell_type": "code",
   "execution_count": 95,
   "metadata": {
    "collapsed": false
   },
   "outputs": [
    {
     "data": {
      "text/plain": [
       "'BMW'"
      ]
     },
     "metadata": {},
     "output_type": "display_data"
    }
   ],
   "source": [
    "class Car:\n",
    "    def get_func(self):\n",
    "        return self._word\n",
    "    def set_func(self, value):\n",
    "        self._word = value.upper()\n",
    "    \n",
    "    word = property(get_func, set_func)\n",
    "\n",
    "# Create instance\n",
    "c = Car()\n",
    "\n",
    "# Set word property\n",
    "c.word = \"BMW\"\n",
    "\n",
    "# Get name property\n",
    "display(c.word)"
   ]
  },
  {
   "cell_type": "markdown",
   "metadata": {
    "collapsed": true
   },
   "source": [
    "**Super**\n",
    "- super().parent_method()\n",
    "- This allows us to call a method from the parent class with the same method name"
   ]
  },
  {
   "cell_type": "code",
   "execution_count": 133,
   "metadata": {
    "collapsed": false
   },
   "outputs": [
    {
     "name": "stdout",
     "output_type": "stream",
     "text": [
      "B\n",
      "A\n"
     ]
    }
   ],
   "source": [
    "class A:\n",
    "    def letter(self):\n",
    "        print(\"A\")\n",
    "\n",
    "class B(A):\n",
    "    def letter(self):\n",
    "        print(\"B\")\n",
    "        # Call name method from parent class.\n",
    "        super().letter()\n",
    "\n",
    "# Create Circle and call name.\n",
    "b = B()\n",
    "b.letter()"
   ]
  },
  {
   "cell_type": "markdown",
   "metadata": {},
   "source": [
    "**Hash**\n",
    "- Comparing objects using hash is fast."
   ]
  },
  {
   "cell_type": "code",
   "execution_count": 144,
   "metadata": {
    "collapsed": false
   },
   "outputs": [
    {
     "data": {
      "text/plain": [
       "10"
      ]
     },
     "metadata": {},
     "output_type": "display_data"
    }
   ],
   "source": [
    "class Add:\n",
    "    def __init__(self, num_1, num_2):\n",
    "        self.num_1 = num_1\n",
    "        self.num_2 = num_2\n",
    "        \n",
    "    def sum_all(self):\n",
    "        print(\"Method sum_all() in class A:\")\n",
    "        return self.num_1 + self.num_2\n",
    "    \n",
    "    def __hash__(self):\n",
    "        return int(self.num_1)\n",
    "\n",
    "a = Add(10 , 10)\n",
    "display(hash(a))"
   ]
  }
 ],
 "metadata": {
  "anaconda-cloud": {},
  "kernelspec": {
   "display_name": "Python [conda env:py3k]",
   "language": "python",
   "name": "conda-env-py3k-py"
  },
  "language_info": {
   "codemirror_mode": {
    "name": "ipython",
    "version": 3
   },
   "file_extension": ".py",
   "mimetype": "text/x-python",
   "name": "python",
   "nbconvert_exporter": "python",
   "pygments_lexer": "ipython3",
   "version": "3.5.2"
  }
 },
 "nbformat": 4,
 "nbformat_minor": 1
}

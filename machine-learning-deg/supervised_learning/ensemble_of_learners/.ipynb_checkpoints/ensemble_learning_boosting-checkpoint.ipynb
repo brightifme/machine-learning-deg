{
 "cells": [
  {
   "cell_type": "markdown",
   "metadata": {},
   "source": [
    "## Ensemble Learning: Boosting"
   ]
  },
  {
   "cell_type": "markdown",
   "metadata": {},
   "source": [
    "**Characteristics of Ensemble Learning**\n",
    "- Intuition\n",
    "    - You take a bunch of simple rules \n",
    "    - On their own, they do not give good answers\n",
    "    - But once you take them together, they do something good"
   ]
  },
  {
   "cell_type": "markdown",
   "metadata": {},
   "source": [
    "**Bagging or Bootstrap Aggregation**\n",
    "- Algorithm\n",
    "    1. Learn over a subset of data to come up rules\n",
    "        - Uniformly and randomly choose the data\n",
    "        - Apply a learning algorithm to get a rule (hypothesis)\n",
    "    2. Combine rules\n",
    "        - Mean\n",
    "- Example \n",
    "    1. Say you've subsets of third order polynomials (rules)\n",
    "    2. You average the subsets of third order polynomials\n",
    "        - You're actually averaging the variances and differences\n",
    "        - It's good at getting rid of overfitting"
   ]
  },
  {
   "cell_type": "markdown",
   "metadata": {},
   "source": [
    "**Boosting**\n",
    "- \"Superior\" to Bagging\n",
    "- Algorithm Intuition\n",
    "    1. Learn over a subset of data to come up rules\n",
    "        - Focus on the **hardest examples** to classify\n",
    "    2. Combine rules\n",
    "        - **Weighted** mean\n",
    "- Error: probability of mismatches\n",
    "    - $$P_D[h(x)≠c(x)]$$\n",
    "        - D: distribution\n",
    "        - h(x): specific hypothesis; concept we think is right\n",
    "        - c(x): true underlying concept\n",
    "- Weak learner: learner that does better than chance\n",
    "    - $$P_D[h(x)≠c(x)] ≤ \\frac{1}{2} - ε$$\n",
    "    - Please note the difference between hypothesis and learning model, the learning model is able to choose different hypothesis according to the distribution, only if we cannot find any hypothesis that can do better than chance, then the learning model is not a weak learner\n",
    "- Algorithm Overview\n",
    "    - ![](boost1.png)\n",
    "        - There will be more weight for the ones that the algorithms got wrong (harder examples)\n",
    "        - There will be less weight for the ones that the algorithms got correct (easier examples)"
   ]
  },
  {
   "cell_type": "markdown",
   "metadata": {},
   "source": [
    "**Boosting Benefits**\n",
    "1. The more hypotheses you add, the greater the margin for error\n",
    "    - Less overfitting\n",
    "        - ![](boost2.png)\n",
    "2. Agnostic to any learner \n",
    "    - So long it's a weak learner"
   ]
  },
  {
   "cell_type": "markdown",
   "metadata": {},
   "source": [
    "**Boosting tends to overfit:**\n",
    "- If weak learner uses artificial neural network (ANN) with many layers and nodes\n",
    "    - If underlying weak learner is already overfitting\n",
    "- If there's pink noise\n",
    "    - White noise: gaussian"
   ]
  },
  {
   "cell_type": "markdown",
   "metadata": {},
   "source": [
    "**AdaBoost with Scikit-learn**\n",
    "- Can be used for both regression and classification problems\n",
    "\n",
    "**Explanation from [scikit-learn](http://scikit-learn.org/stable/modules/ensemble.html#adaboost)**\n",
    "- The core principle of AdaBoost is to fit a sequence of weak learners (i.e., models that are only slightly better than random guessing, such as small decision trees) on repeatedly modified versions of the data\n",
    "- The predictions from all of them are then combined through a weighted majority vote (or sum) to produce the final prediction\n",
    "- The data modifications at each so-called boosting iteration consist of applying weights w_1, w_2, ..., w_N to each of the training samples\n",
    "- Initially, those weights are all set to w_i = 1/N, so that the first step simply trains a weak learner on the original data\n",
    "- For each successive iteration, the sample weights are individually modified and the learning algorithm is reapplied to the reweighted data\n",
    "- At a given step, those training examples that were incorrectly predicted by the boosted model induced at the previous step have their weights increased, whereas the weights are decreased for those that were predicted correctly\n",
    "- As iterations proceed, examples that are difficult to predict receive ever-increasing influence\n",
    "- Each subsequent weak learner is thereby forced to concentrate on the examples that are missed by the previous ones in the sequence "
   ]
  },
  {
   "cell_type": "code",
   "execution_count": 5,
   "metadata": {
    "collapsed": false
   },
   "outputs": [],
   "source": [
    "from sklearn.metrics import accuracy_score\n",
    "from sklearn.cross_validation import train_test_split\n",
    "from sklearn.datasets import load_iris\n",
    "from sklearn.ensemble import AdaBoostClassifier"
   ]
  },
  {
   "cell_type": "code",
   "execution_count": null,
   "metadata": {
    "collapsed": true
   },
   "outputs": [],
   "source": [
    "# Create data\n",
    "iris = load_iris()\n",
    "X = iris.data\n",
    "y = iris.target\n",
    "X_train, X_test, y_train, y_test = train_test_split(X, y, test_size=0.2, random_state=10)"
   ]
  },
  {
   "cell_type": "code",
   "execution_count": 6,
   "metadata": {
    "collapsed": false
   },
   "outputs": [
    {
     "data": {
      "text/plain": [
       "0.96666666666666667"
      ]
     },
     "execution_count": 6,
     "metadata": {},
     "output_type": "execute_result"
    }
   ],
   "source": [
    "# Instantiate\n",
    "abc = AdaBoostClassifier()\n",
    "\n",
    "# Fit\n",
    "abc.fit(X_train, y_train)\n",
    "\n",
    "# Predict\n",
    "y_pred = abc.predict(X_test)\n",
    "\n",
    "# Accuracy\n",
    "accuracy_score(y_pred, y_test)"
   ]
  },
  {
   "cell_type": "markdown",
   "metadata": {},
   "source": [
    "**Parameter Tuning with GridSearchCV**\n",
    "- The main parameters to tune to obtain good results are \n",
    "    - n_estimators\n",
    "    - complexity of the base estimators\n",
    "        - e.g., its depth max_depth or minimum required number of samples at a leaf min_samples_leaf in case of decision trees"
   ]
  }
 ],
 "metadata": {
  "anaconda-cloud": {},
  "kernelspec": {
   "display_name": "Python [py3k]",
   "language": "python",
   "name": "Python [py3k]"
  },
  "language_info": {
   "codemirror_mode": {
    "name": "ipython",
    "version": 3
   },
   "file_extension": ".py",
   "mimetype": "text/x-python",
   "name": "python",
   "nbconvert_exporter": "python",
   "pygments_lexer": "ipython3",
   "version": "3.5.2"
  }
 },
 "nbformat": 4,
 "nbformat_minor": 0
}
